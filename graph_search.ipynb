{
 "cells": [
  {
   "cell_type": "code",
   "execution_count": 92,
   "metadata": {},
   "outputs": [],
   "source": [
    "from collections import deque "
   ]
  },
  {
   "cell_type": "code",
   "execution_count": 98,
   "metadata": {},
   "outputs": [],
   "source": [
    "graph1 = {\n",
    "    'A' : ['B','S'],\n",
    "    'B' : ['A'],\n",
    "    'C' : ['D','E','F','S'],\n",
    "    'D' : ['C'],\n",
    "    'E' : ['C','H'],\n",
    "    'F' : ['C','G'],\n",
    "    'G' : ['F','S'],\n",
    "    'H' : ['E','G'],\n",
    "    'S' : ['A','C','G']\n",
    "}"
   ]
  },
  {
   "cell_type": "code",
   "execution_count": 99,
   "metadata": {},
   "outputs": [],
   "source": [
    "#Graph is represented as a collection of adjacency lists\n",
    "\n",
    "def dfs(Graph,vertex):\n",
    "    queueTobeCovered = []\n",
    "    queueTobeCovered.append(vertex)\n",
    "    #reached.append(vertex)\n",
    "    \n",
    "    print(queueTobeCovered)\n",
    "    for vertices in queueTobeCovered:\n",
    "        #print(\"vertices\",vertices)\n",
    "        #print(\"popped\",queueTobeCovered.pop(0))\n",
    "        \n",
    "        for adjVertex in graph1[vertices]:\n",
    "            if adjVertex not in queueTobeCovered:\n",
    "                #reached.append(adjVertex)\n",
    "                queueTobeCovered.append(adjVertex)\n",
    "        print(queueTobeCovered)\n",
    "        #queueTobeCovered.pop(0)\n",
    "        \n",
    "    \n",
    "    print(\"queueTobeCovered\",queueTobeCovered)\n",
    "         \n",
    "            \n",
    "        "
   ]
  },
  {
   "cell_type": "code",
   "execution_count": 100,
   "metadata": {},
   "outputs": [
    {
     "name": "stdout",
     "output_type": "stream",
     "text": [
      "['A']\n",
      "['A', 'B', 'S']\n",
      "['A', 'B', 'S']\n",
      "['A', 'B', 'S', 'C', 'G']\n",
      "['A', 'B', 'S', 'C', 'G', 'D', 'E', 'F']\n",
      "['A', 'B', 'S', 'C', 'G', 'D', 'E', 'F']\n",
      "['A', 'B', 'S', 'C', 'G', 'D', 'E', 'F']\n",
      "['A', 'B', 'S', 'C', 'G', 'D', 'E', 'F', 'H']\n",
      "['A', 'B', 'S', 'C', 'G', 'D', 'E', 'F', 'H']\n",
      "['A', 'B', 'S', 'C', 'G', 'D', 'E', 'F', 'H']\n",
      "queueTobeCovered ['A', 'B', 'S', 'C', 'G', 'D', 'E', 'F', 'H']\n"
     ]
    }
   ],
   "source": [
    "dfs(graph1,'A')"
   ]
  },
  {
   "cell_type": "code",
   "execution_count": 104,
   "metadata": {},
   "outputs": [
    {
     "data": {
      "text/plain": [
       "12.34"
      ]
     },
     "execution_count": 104,
     "metadata": {},
     "output_type": "execute_result"
    }
   ],
   "source": [
    "1234/100"
   ]
  },
  {
   "cell_type": "code",
   "execution_count": null,
   "metadata": {},
   "outputs": [],
   "source": []
  }
 ],
 "metadata": {
  "kernelspec": {
   "display_name": "Python 3",
   "language": "python",
   "name": "python3"
  },
  "language_info": {
   "codemirror_mode": {
    "name": "ipython",
    "version": 3
   },
   "file_extension": ".py",
   "mimetype": "text/x-python",
   "name": "python",
   "nbconvert_exporter": "python",
   "pygments_lexer": "ipython3",
   "version": "3.7.0"
  }
 },
 "nbformat": 4,
 "nbformat_minor": 2
}
