{
 "cells": [
  {
   "cell_type": "code",
   "execution_count": 56,
   "metadata": {},
   "outputs": [],
   "source": [
    "aList = [7,2,4,8,1,-1,10,0]\n",
    "\n",
    "def insertionSort():\n",
    "    print(len(aList))\n",
    "    mpass = 0\n",
    "    npass =0\n",
    "    kpass=0\n",
    "    ifpass =0\n",
    "    totalPass = 0\n",
    "    for i in range(1,len(aList)): \n",
    "        mpass = mpass+1\n",
    "        totalPass = totalPass + 1\n",
    "        for j in range(0,i):   \n",
    "            npass = npass + 1\n",
    "            totalPass = totalPass + 1\n",
    "            if(aList[j] > aList[i]):\n",
    "                ifpass = ifpass + 1\n",
    "                min = aList[i]   \n",
    "                for k in range(i,j,-1): \n",
    "                    kpass = kpass+1\n",
    "                    totalPass = totalPass + 1\n",
    "                    aList[k] = aList[k-1]\n",
    "                aList[j] = min \n",
    "                \n",
    "    print(aList)  \n",
    "    print(mpass,npass,kpass,ifpass,totalPass)\n",
    "    print(\"Total passes\",totalPass)\n",
    "    \n",
    "#range, arrayRange          "
   ]
  },
  {
   "cell_type": "code",
   "execution_count": 57,
   "metadata": {},
   "outputs": [
    {
     "name": "stdout",
     "output_type": "stream",
     "text": [
      "8\n",
      "[-1, 0, 1, 2, 4, 7, 8, 10]\n",
      "7 28 17 5 52\n",
      "Total passes 52\n"
     ]
    }
   ],
   "source": [
    "insertionSort()"
   ]
  },
  {
   "cell_type": "code",
   "execution_count": 58,
   "metadata": {},
   "outputs": [
    {
     "name": "stdout",
     "output_type": "stream",
     "text": [
      "7\n",
      "2\n",
      "4\n",
      "8\n",
      "1\n",
      "-1\n",
      "10\n",
      "0\n"
     ]
    }
   ],
   "source": [
    "bList = [7,2,4,8,1,-1,10,0]\n",
    "for i in range(0,len(bList)):\n",
    "    print(bList[i])"
   ]
  },
  {
   "cell_type": "code",
   "execution_count": null,
   "metadata": {},
   "outputs": [],
   "source": []
  }
 ],
 "metadata": {
  "kernelspec": {
   "display_name": "Python 3",
   "language": "python",
   "name": "python3"
  },
  "language_info": {
   "codemirror_mode": {
    "name": "ipython",
    "version": 3
   },
   "file_extension": ".py",
   "mimetype": "text/x-python",
   "name": "python",
   "nbconvert_exporter": "python",
   "pygments_lexer": "ipython3",
   "version": "3.7.0"
  }
 },
 "nbformat": 4,
 "nbformat_minor": 2
}
