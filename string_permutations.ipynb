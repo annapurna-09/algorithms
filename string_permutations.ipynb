{
 "cells": [
  {
   "cell_type": "code",
   "execution_count": 8,
   "metadata": {},
   "outputs": [
    {
     "name": "stdout",
     "output_type": "stream",
     "text": [
      "['abcd', 'bacd', 'bcad', 'bcda', 'acbd', 'cabd', 'cbad', 'cbda', 'acdb', 'cadb', 'cdab', 'cdba', 'abdc', 'badc', 'bdac', 'bdca', 'adbc', 'dabc', 'dbac', 'dbca', 'adcb', 'dacb', 'dcab', 'dcba']\n",
      "24\n"
     ]
    }
   ],
   "source": [
    "word = 'abcd'\n",
    "substring_list = []\n",
    "\n",
    "# loop from last element of string\n",
    "for j in range(1, len(word)+1):\n",
    "    letter = word[len(word) - j]\n",
    "    if len(substring_list) == 0:\n",
    "        substring_list.append(letter)\n",
    "        \n",
    "    else:\n",
    "        len_list = len(substring_list)\n",
    "        for j in range(0, len_list):\n",
    "            item = substring_list[j]\n",
    "            #print(\"item \",item)\n",
    "            for k in range(0, len(item)+1):\n",
    "                if k == 0:\n",
    "                    insert_substr = letter + item\n",
    "#                     substring_list.append(insert_substr)\n",
    "                    \n",
    "                else:\n",
    "                    insert_substr = item[:k] + letter + item[k:]\n",
    "#                     substring_list.append(insert_substr)\n",
    "                    \n",
    "                substring_list.append(insert_substr)\n",
    "                 \n",
    "        del substring_list[:len_list]  \n",
    "\n",
    "print(substring_list) \n",
    "print(len(substring_list))"
   ]
  },
  {
   "cell_type": "code",
   "execution_count": null,
   "metadata": {},
   "outputs": [],
   "source": [
    "alist = ['ab','bc','a','b']\n",
    "astring = 'a'\n",
    "\n",
    "new_str = astring[:1] + 'A' + astring[1:]\n",
    "\n",
    "new_str\n",
    "\n",
    "del alist[:2]\n",
    "alist"
   ]
  },
  {
   "cell_type": "code",
   "execution_count": null,
   "metadata": {},
   "outputs": [],
   "source": []
  },
  {
   "cell_type": "code",
   "execution_count": null,
   "metadata": {},
   "outputs": [],
   "source": []
  },
  {
   "cell_type": "code",
   "execution_count": null,
   "metadata": {},
   "outputs": [],
   "source": []
  },
  {
   "cell_type": "code",
   "execution_count": null,
   "metadata": {},
   "outputs": [],
   "source": []
  },
  {
   "cell_type": "code",
   "execution_count": null,
   "metadata": {},
   "outputs": [],
   "source": [
    "1. loop for every element in string \n",
    "get all letters in string and form 1 permutation\n",
    "\n",
    "\n",
    "1. store "
   ]
  }
 ],
 "metadata": {
  "kernelspec": {
   "display_name": "Python 3",
   "language": "python",
   "name": "python3"
  },
  "language_info": {
   "codemirror_mode": {
    "name": "ipython",
    "version": 3
   },
   "file_extension": ".py",
   "mimetype": "text/x-python",
   "name": "python",
   "nbconvert_exporter": "python",
   "pygments_lexer": "ipython3",
   "version": "3.6.8"
  }
 },
 "nbformat": 4,
 "nbformat_minor": 2
}
