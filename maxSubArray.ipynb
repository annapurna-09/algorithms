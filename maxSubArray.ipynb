{
 "cells": [
  {
   "cell_type": "code",
   "execution_count": 117,
   "metadata": {},
   "outputs": [],
   "source": [
    "def maxSubarray():\n",
    "    aList = [-2,-3,4,-1,-2,1,5,-3]\n",
    "    global maxSub\n",
    "    global maxSubitr\n",
    "    global intMax\n",
    "    maxSub = -9999\n",
    "    maxSubArray = []\n",
    "    maxArrayItr = []\n",
    "    for i in range(0,len(aList)):\n",
    "        intMax = aList[i]\n",
    "        maxSubitr = -9999\n",
    "        for j in range(i+1,len(aList)):\n",
    "            if maxSubitr < intMax:\n",
    "                del maxArrayItr[:]\n",
    "                maxSubitr = intMax\n",
    "                for n in range(i,j):\n",
    "                    maxArrayItr.append(aList[n])\n",
    "            intMax = intMax + aList[j] \n",
    "            \n",
    "        if maxSub < maxSubitr: \n",
    "            maxSub = maxSubitr \n",
    "            del maxSubArray[:]\n",
    "            maxSubArray.extend(maxArrayItr) \n",
    "              \n",
    "    print(\"maxSubArray = \",maxSubArray)\n",
    "    print(\"maxSum = \",maxSub)\n",
    "                \n",
    "            "
   ]
  },
  {
   "cell_type": "code",
   "execution_count": 3,
   "metadata": {},
   "outputs": [
    {
     "name": "stdout",
     "output_type": "stream",
     "text": [
      "7\n"
     ]
    }
   ],
   "source": [
    "def largest_contiguous_sum(array):\n",
    "    total_max = -float('Inf')\n",
    "    current_max = 0\n",
    "    for i in range(len(array)):\n",
    "        current_max = current_max + array[i]\n",
    "        if total_max < current_max:\n",
    "            total_max = current_max\n",
    "        if current_max < 0:\n",
    "            current_max = 0\n",
    "    return total_max\n",
    "\n",
    "A = [-2,-3,4,-1,-2,1,5,-3]\n",
    "print(largest_contiguous_sum(A))"
   ]
  },
  {
   "cell_type": "code",
   "execution_count": 118,
   "metadata": {
    "scrolled": false
   },
   "outputs": [
    {
     "name": "stdout",
     "output_type": "stream",
     "text": [
      "maxSubArray =  [4, -1, -2, 1, 5]\n",
      "maxSum =  7\n"
     ]
    }
   ],
   "source": [
    "maxSubarray()\n"
   ]
  },
  {
   "cell_type": "code",
   "execution_count": null,
   "metadata": {},
   "outputs": [],
   "source": []
  }
 ],
 "metadata": {
  "kernelspec": {
   "display_name": "Python 3",
   "language": "python",
   "name": "python3"
  },
  "language_info": {
   "codemirror_mode": {
    "name": "ipython",
    "version": 3
   },
   "file_extension": ".py",
   "mimetype": "text/x-python",
   "name": "python",
   "nbconvert_exporter": "python",
   "pygments_lexer": "ipython3",
   "version": "3.7.0"
  }
 },
 "nbformat": 4,
 "nbformat_minor": 2
}
